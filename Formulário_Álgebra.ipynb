{
  "nbformat": 4,
  "nbformat_minor": 0,
  "metadata": {
    "colab": {
      "name": "Formulário Álgebra.ipynb",
      "provenance": [],
      "collapsed_sections": [],
      "authorship_tag": "ABX9TyPcaTZ8nw9A5vOdbUiP1mEI",
      "include_colab_link": true
    },
    "kernelspec": {
      "name": "python3",
      "display_name": "Python 3"
    },
    "language_info": {
      "name": "python"
    }
  },
  "cells": [
    {
      "cell_type": "markdown",
      "metadata": {
        "id": "view-in-github",
        "colab_type": "text"
      },
      "source": [
        "<a href=\"https://colab.research.google.com/github/otaviofernandes/Algebra_Linear/blob/main/Formul%C3%A1rio_%C3%81lgebra.ipynb\" target=\"_parent\"><img src=\"https://colab.research.google.com/assets/colab-badge.svg\" alt=\"Open In Colab\"/></a>"
      ]
    },
    {
      "cell_type": "code",
      "metadata": {
        "id": "h5ZKdwPdkNOH"
      },
      "source": [
        "import numpy as np\n",
        "import matplotlib.pyplot as plt\n",
        "%matplotlib inline\n",
        "# função para plotagem dos gráficos\n",
        "def plot_poligono(poligono, novo=True, cor='k'):\n",
        "  \"\"\"objeto é uma sequência de pontos\"\"\"\n",
        "  x = [p[0] for p in poligono]\n",
        "  y = [p[1] for p in poligono]\n",
        "  \n",
        "  if novo:\n",
        "    plt.figure(figsize=(4,4))\n",
        "  plt.plot(x, y, c=cor);"
      ],
      "execution_count": 54,
      "outputs": []
    },
    {
      "cell_type": "markdown",
      "metadata": {
        "id": "-P3aHTtK2h-l"
      },
      "source": [
        "#Cálculo da norma de um vetor#"
      ]
    },
    {
      "cell_type": "code",
      "metadata": {
        "colab": {
          "base_uri": "https://localhost:8080/"
        },
        "id": "sGjbtsZz2qjF",
        "outputId": "499a8d89-a8e8-4834-c60c-8d49aeee391d"
      },
      "source": [
        "u = np.array([-7, 0])\n",
        "norma = np.linalg.norm(u)\n",
        "norma"
      ],
      "execution_count": 2,
      "outputs": [
        {
          "output_type": "execute_result",
          "data": {
            "text/plain": [
              "7.0"
            ]
          },
          "metadata": {
            "tags": []
          },
          "execution_count": 2
        }
      ]
    },
    {
      "cell_type": "markdown",
      "metadata": {
        "id": "SgS6XvhGknj_"
      },
      "source": [
        "#Adição de vetores (soma)# "
      ]
    },
    {
      "cell_type": "code",
      "metadata": {
        "colab": {
          "base_uri": "https://localhost:8080/"
        },
        "id": "lSQU-PoSks_t",
        "outputId": "bbf49663-bb15-4067-903b-3cb14f5d04d7"
      },
      "source": [
        "a = np.array([1, 2, 3])\n",
        "b = np.array([1, 1, 1])\n",
        "adicao = a + b\n",
        "adicao"
      ],
      "execution_count": 3,
      "outputs": [
        {
          "output_type": "execute_result",
          "data": {
            "text/plain": [
              "array([2, 3, 4])"
            ]
          },
          "metadata": {
            "tags": []
          },
          "execution_count": 3
        }
      ]
    },
    {
      "cell_type": "markdown",
      "metadata": {
        "id": "Rz2AB9n_oS3F"
      },
      "source": [
        "#Inversão de vetores#"
      ]
    },
    {
      "cell_type": "code",
      "metadata": {
        "colab": {
          "base_uri": "https://localhost:8080/"
        },
        "id": "F28NIBBboWv8",
        "outputId": "11358c56-a824-4d92-8783-6f5967614f87"
      },
      "source": [
        "a = np.array([3, 6, -1, 5, -2])\n",
        "inversao = -a\n",
        "inversao"
      ],
      "execution_count": 4,
      "outputs": [
        {
          "output_type": "execute_result",
          "data": {
            "text/plain": [
              "array([-3, -6,  1, -5,  2])"
            ]
          },
          "metadata": {
            "tags": []
          },
          "execution_count": 4
        }
      ]
    },
    {
      "cell_type": "markdown",
      "metadata": {
        "id": "aeRGRjCAqiyC"
      },
      "source": [
        "#Subtração de vetores#\n",
        "Mesmo que a soma de um vetor com a inversão de outro vetor"
      ]
    },
    {
      "cell_type": "code",
      "metadata": {
        "colab": {
          "base_uri": "https://localhost:8080/"
        },
        "id": "GUnmZQqBqxaL",
        "outputId": "6047c07f-389c-44b4-f4ad-d0a4dd87f10e"
      },
      "source": [
        "a = np.array([3, 2, -4, 1])\n",
        "b = np.array([1, 5, -1, 0])\n",
        "subtracao = a + (-b)\n",
        "subtracao"
      ],
      "execution_count": 5,
      "outputs": [
        {
          "output_type": "execute_result",
          "data": {
            "text/plain": [
              "array([ 2, -3, -3,  1])"
            ]
          },
          "metadata": {
            "tags": []
          },
          "execution_count": 5
        }
      ]
    },
    {
      "cell_type": "markdown",
      "metadata": {
        "id": "bgph68IqrZua"
      },
      "source": [
        "#Multiplicação de um vetor por um escalar#"
      ]
    },
    {
      "cell_type": "code",
      "metadata": {
        "colab": {
          "base_uri": "https://localhost:8080/"
        },
        "id": "9GF87YfHsndK",
        "outputId": "dd7f0a70-6977-4c35-a574-2596dc493e81"
      },
      "source": [
        "vetor = np.array([3, 2, -4, 1])\n",
        "escalar = 3\n",
        "resultante = vetor * escalar\n",
        "resultante"
      ],
      "execution_count": 6,
      "outputs": [
        {
          "output_type": "execute_result",
          "data": {
            "text/plain": [
              "array([  9,   6, -12,   3])"
            ]
          },
          "metadata": {
            "tags": []
          },
          "execution_count": 6
        }
      ]
    },
    {
      "cell_type": "markdown",
      "metadata": {
        "id": "g29emCZruCWQ"
      },
      "source": [
        "#Produto Interno#\n",
        "Multiplicação entre dois vetores\n",
        " - operador para produto interno: vetor1 @ vetor2\n",
        " - método np.dot(vetor1, vetor2)"
      ]
    },
    {
      "cell_type": "code",
      "metadata": {
        "colab": {
          "base_uri": "https://localhost:8080/"
        },
        "id": "HHeRXC7ouLU4",
        "outputId": "d7e5f207-e87e-44a1-83d9-b397cd9a1a32"
      },
      "source": [
        "a = np.array([-2, 1, 5, -4, 1])\n",
        "b = np.array([3, 4, 2, -3, 0])\n",
        "prod_interno = a @ b # operador para produto interno @\n",
        "print(prod_interno)\n",
        "\n",
        "c = np.array([1, -2, 1])\n",
        "d = np.array([3, 2, 2])\n",
        "prod_interno1 = np.dot(a, b)\n",
        "print(prod_interno1)"
      ],
      "execution_count": 7,
      "outputs": [
        {
          "output_type": "stream",
          "text": [
            "20\n",
            "20\n"
          ],
          "name": "stdout"
        }
      ]
    },
    {
      "cell_type": "markdown",
      "metadata": {
        "id": "RNVEopdK3EXb"
      },
      "source": [
        "#Cálculo do ângulo entre dois vetores#\n"
      ]
    },
    {
      "cell_type": "code",
      "metadata": {
        "colab": {
          "base_uri": "https://localhost:8080/"
        },
        "id": "1L9mvCny3Ts8",
        "outputId": "edcad445-f556-4874-c151-f037d36c3894"
      },
      "source": [
        "u = np.array([3, -3, -2, 5])\n",
        "v = np.array([7, -7, -5, 6])\n",
        "\n",
        "angulo = np.arccos((u@v)/(np.linalg.norm(u)*np.linalg.norm(v)))\n",
        "print('ângulo em radianos: ', angulo)\n",
        "print('ângulo em graus: ', (np.rad2deg(angulo)))"
      ],
      "execution_count": 8,
      "outputs": [
        {
          "output_type": "stream",
          "text": [
            "ângulo em radianos:  0.32212950565232523\n",
            "ângulo em graus:  18.456661130513833\n"
          ],
          "name": "stdout"
        }
      ]
    },
    {
      "cell_type": "markdown",
      "metadata": {
        "id": "jHkv-VuHqSd7"
      },
      "source": [
        "#Cálculo do determinante para matrizes 2 x 2 e 3 x 3#\n",
        "- Obs. se determinante = 0, vetores que compõe a matriz possuem dependência linear"
      ]
    },
    {
      "cell_type": "code",
      "metadata": {
        "colab": {
          "base_uri": "https://localhost:8080/"
        },
        "id": "JaeqsJhLpE0i",
        "outputId": "36c51b85-f1aa-4e11-ee66-f94f5105ac35"
      },
      "source": [
        "#matriz 2 x 2\n",
        "m2_2 = np.array([[0, 2],\n",
        "                 [0, 9]])\n",
        "\n",
        "#matriz 3 x 3\n",
        "m3_3 = np.array([[-4, 0, 2],\n",
        "                 [0, 1, -2],\n",
        "                 [12, -3, 0]])\n",
        "determinante2_2 = np.linalg.det(m2_2)\n",
        "determinante3_3 = np.linalg.det(m3_3)\n",
        "print('Determinante da matriz 2 x 2: ', determinante2_2)\n",
        "print('Determinante da matriz 3 x 3: ', determinante3_3)"
      ],
      "execution_count": 9,
      "outputs": [
        {
          "output_type": "stream",
          "text": [
            "Determinante da matriz 2 x 2:  0.0\n",
            "Determinante da matriz 3 x 3:  0.0\n"
          ],
          "name": "stdout"
        }
      ]
    },
    {
      "cell_type": "markdown",
      "metadata": {
        "id": "F0kVzQKNlnXT"
      },
      "source": [
        "#Soma de matrizes#\n",
        "- Análogo à soma de vetores, considerando que a matriz é um vetor formado por vetores."
      ]
    },
    {
      "cell_type": "code",
      "metadata": {
        "colab": {
          "base_uri": "https://localhost:8080/"
        },
        "id": "NAmjCkDzl2Xc",
        "outputId": "e054ffe9-6a17-40c3-8c23-257a97e54897"
      },
      "source": [
        "m1 = np.array([[2, 1],\n",
        "               [1, 3]])\n",
        "m2 = np.array([[3, 4],\n",
        "              [5, 7]])\n",
        "soma_mat = m1 + m2\n",
        "\n",
        "soma_mat"
      ],
      "execution_count": 10,
      "outputs": [
        {
          "output_type": "execute_result",
          "data": {
            "text/plain": [
              "array([[ 5,  5],\n",
              "       [ 6, 10]])"
            ]
          },
          "metadata": {
            "tags": []
          },
          "execution_count": 10
        }
      ]
    },
    {
      "cell_type": "markdown",
      "metadata": {
        "id": "nNYZE6JtnfCT"
      },
      "source": [
        "#Subtração de matrizes#\n",
        "- Análogo à subtração de vetores, considerando que a matriz é um vetor formado por vetores."
      ]
    },
    {
      "cell_type": "code",
      "metadata": {
        "colab": {
          "base_uri": "https://localhost:8080/"
        },
        "id": "JU6uiN7XnnVx",
        "outputId": "cc119ea3-4dc1-49f1-f153-4b01011c854a"
      },
      "source": [
        "m3 = np.array([[3, 1, 6],\n",
        "               [2, -1, 3],\n",
        "               [1, 0, -2]])\n",
        "m4 = np.array([[5, -4, 1],\n",
        "               [-2, -5, 0],\n",
        "               [-1, 8, 7]])\n",
        "subtracao_mat = m3 + (-m4)\n",
        "subtracao_mat"
      ],
      "execution_count": 11,
      "outputs": [
        {
          "output_type": "execute_result",
          "data": {
            "text/plain": [
              "array([[-2,  5,  5],\n",
              "       [ 4,  4,  3],\n",
              "       [ 2, -8, -9]])"
            ]
          },
          "metadata": {
            "tags": []
          },
          "execution_count": 11
        }
      ]
    },
    {
      "cell_type": "markdown",
      "metadata": {
        "id": "vagU9jA6q2iB"
      },
      "source": [
        "#Multiplicação de matrizes#\n",
        "- Análogo ao produto interno de vetores, considerando que a matriz é um vetor formado por vetores."
      ]
    },
    {
      "cell_type": "code",
      "metadata": {
        "colab": {
          "base_uri": "https://localhost:8080/"
        },
        "id": "OeZvLlogrBvw",
        "outputId": "da7e625b-ae1e-4f2f-97c1-ed0587cb3c35"
      },
      "source": [
        "m5 = np.array([[3, 1, 6],\n",
        "               [2, -1, 3],\n",
        "               [1, 0, -2]])\n",
        "m6 = np.array([[5, -4, 1],\n",
        "               [-2, -5, 0],\n",
        "               [-1, 8, 7]])\n",
        "multiplicacao_mat = np.matmul(m5, m6)\n",
        "multiplicacao_mat"
      ],
      "execution_count": 12,
      "outputs": [
        {
          "output_type": "execute_result",
          "data": {
            "text/plain": [
              "array([[  7,  31,  45],\n",
              "       [  9,  21,  23],\n",
              "       [  7, -20, -13]])"
            ]
          },
          "metadata": {
            "tags": []
          },
          "execution_count": 12
        }
      ]
    },
    {
      "cell_type": "markdown",
      "metadata": {
        "id": "PrdxLfUSr0oY"
      },
      "source": [
        "#Transposição de matrizes (matriz transposta)#\n",
        "$m^T$"
      ]
    },
    {
      "cell_type": "code",
      "metadata": {
        "colab": {
          "base_uri": "https://localhost:8080/"
        },
        "id": "b1LsGyymr8C5",
        "outputId": "be691ec2-695a-47bd-e025-19469e71d300"
      },
      "source": [
        "m7 = np.array([[3, 1, 6],\n",
        "               [2, -1, 3],\n",
        "               [1, 0, -2]])\n",
        "matriz_transposta = m7.T\n",
        "matriz_transposta"
      ],
      "execution_count": 13,
      "outputs": [
        {
          "output_type": "execute_result",
          "data": {
            "text/plain": [
              "array([[ 3,  2,  1],\n",
              "       [ 1, -1,  0],\n",
              "       [ 6,  3, -2]])"
            ]
          },
          "metadata": {
            "tags": []
          },
          "execution_count": 13
        }
      ]
    },
    {
      "cell_type": "markdown",
      "metadata": {
        "id": "awA6A7lAzKTU"
      },
      "source": [
        "#Inversão de matrizes (matriz inversa)#\n",
        "- $m^-1$\n",
        "\n",
        "- $m * m^-1 = I$ (matriz multiplicada pela sua inversa = matriz identidade I)\n",
        "- Se o determinante da matriz = 0, ela não possuirá inversa."
      ]
    },
    {
      "cell_type": "code",
      "metadata": {
        "colab": {
          "base_uri": "https://localhost:8080/"
        },
        "id": "OGU1_4gK0emd",
        "outputId": "f1a4fab6-44d4-488a-c074-2fec3bdf8115"
      },
      "source": [
        "m8 = np.array([[3, 1],\n",
        "               [-1, 2]])\n",
        "inversa = np.linalg.inv(m8)\n",
        "print('Matriz inversa: ', inversa)"
      ],
      "execution_count": 14,
      "outputs": [
        {
          "output_type": "stream",
          "text": [
            "Matriz inversa:  [[ 0.28571429 -0.14285714]\n",
            " [ 0.14285714  0.42857143]]\n"
          ],
          "name": "stdout"
        }
      ]
    },
    {
      "cell_type": "markdown",
      "metadata": {
        "id": "vHa0xpQRSHCv"
      },
      "source": [
        "#Translação de polígonos#\n",
        "- Operação de soma matricial\n",
        "- Multiplicação de matrizes com coordenadas homogêneas ($R^n ->  n + 1$)"
      ]
    },
    {
      "cell_type": "code",
      "metadata": {
        "colab": {
          "base_uri": "https://localhost:8080/"
        },
        "id": "P1OoafzVSQzY",
        "outputId": "da19fd77-d8bc-4e32-9785-c2a4ecd729ad"
      },
      "source": [
        "#Translação com operação de soma\n",
        "poligono = np.array([[0, 0],\n",
        "                     [1, 0],\n",
        "                     [1, 1],\n",
        "                     [0, 1]])\n",
        "\n",
        "#valor do deslocamento [dx, dy]\n",
        "deslocamento = np.array([3,3])\n",
        "\n",
        "poligono_deslocado = [(v + deslocamento) for v in poligono]\n",
        "poligono_deslocado"
      ],
      "execution_count": 67,
      "outputs": [
        {
          "output_type": "execute_result",
          "data": {
            "text/plain": [
              "[array([3, 3]), array([4, 3]), array([4, 4]), array([3, 4])]"
            ]
          },
          "metadata": {
            "tags": []
          },
          "execution_count": 67
        }
      ]
    },
    {
      "cell_type": "code",
      "metadata": {
        "colab": {
          "base_uri": "https://localhost:8080/"
        },
        "id": "qShdelxhUFRn",
        "outputId": "62ab6032-2875-4712-9629-83aa15227517"
      },
      "source": [
        "#Translação com multiplicação de matrizes com coordenadas homogêneas\n",
        "poligono_homogeneo = np.array([[0, 0, 1],\n",
        "                               [1, 0, 1],\n",
        "                               [1, 1, 1],\n",
        "                               [0, 1, 1]])\n",
        "\n",
        "#Matriz de deslocamento [dx, dy, 1]\n",
        "deslocamento_homogeneo = np.array([[1, 0, 0],\n",
        "                                  [0, 1, 0],\n",
        "                                  [3, 3, 1]])\n",
        "\n",
        "poligono_homogeneo_deslocado = np.matmul(poligono_homogeneo, deslocamento_homogeneo)\n",
        "poligono_homogeneo_deslocado"
      ],
      "execution_count": 68,
      "outputs": [
        {
          "output_type": "execute_result",
          "data": {
            "text/plain": [
              "array([[3, 3, 1],\n",
              "       [4, 3, 1],\n",
              "       [4, 4, 1],\n",
              "       [3, 4, 1]])"
            ]
          },
          "metadata": {
            "tags": []
          },
          "execution_count": 68
        }
      ]
    },
    {
      "cell_type": "markdown",
      "metadata": {
        "id": "Tvp6tlLUthy0"
      },
      "source": [
        "#Escalonamento de polígonos#\n",
        "- Multiplicação de matrizes com coordenadas homogêneas\n",
        "- Pode conter ou não ajuste do objeto escalonado para o centro geométrico."
      ]
    },
    {
      "cell_type": "code",
      "metadata": {
        "colab": {
          "base_uri": "https://localhost:8080/"
        },
        "id": "m08N9ZQbtzVl",
        "outputId": "d3676910-b7e7-4ffd-a320-f38b56d55c52"
      },
      "source": [
        "poligono_inicial = np.array([[0, 0, 1],\n",
        "                             [1, 0, 1],\n",
        "                             [1, 1, 1],\n",
        "                             [0, 1, 1]])\n",
        "sx = 2 #fator de escala em x \n",
        "sy = 3 #fator de escala em x \n",
        "\n",
        "matriz_escalonamento = np.array([[sx, 0, 0],\n",
        "                                 [0, sy, 0],\n",
        "                                 [0, 0, 1]])\n",
        "\n",
        "#Escalonamento sem ajuste do centro geométrico\n",
        "poligono_escalonado = np.matmul(poligono_inicial, matriz_escalonamento)\n",
        "print(\"Polígono escalonado sem ajuste do centro geométrico e fatores de escalonamento sx=%d e sy=%d\" % (sx, sy))\n",
        "print(poligono_escalonado, '\\n')\n",
        "\n",
        "#Escalonamento com ajuste do centro geométrico\n",
        "centro_geometrico = np.mean(poligono_inicial, axis = 0) #média dos valores dos vértices no eixo x e y\n",
        "mx = centro_geometrico[0] #centro geométrico em x\n",
        "my = centro_geometrico[1] #centro geométrico em y\n",
        "\n",
        "matriz_ajuste1 = np.array([[1, 0, 0],\n",
        "                           [0, 1, 0],\n",
        "                           [-mx, -my, 1]])\n",
        "\n",
        "matriz_ajuste2 = np.array([[1, 0, 0],\n",
        "                           [0, 1, 0],\n",
        "                           [mx, my, 1]])\n",
        "\n",
        "poligono_escalonado_centro = np.matmul((np.matmul((np.matmul(poligono_inicial, matriz_ajuste1)), matriz_escalonamento)), matriz_ajuste2)\n",
        "print(\"Polígono escalonado com ajuste do centro geométrico e fatores de escalonamento sx=%d e sy=%d\" % (sx, sy))\n",
        "print(poligono_escalonado_centro)"
      ],
      "execution_count": 70,
      "outputs": [
        {
          "output_type": "stream",
          "text": [
            "Polígono escalonado sem ajuste do centro geométrico e fatores de escalonamento sx=2 e sy=3\n",
            "[[0 0 1]\n",
            " [2 0 1]\n",
            " [2 3 1]\n",
            " [0 3 1]] \n",
            "\n",
            "Polígono escalonado com ajuste do centro geométrico e fatores de escalonamento sx=2 e sy=3\n",
            "[[-0.5 -1.   1. ]\n",
            " [ 1.5 -1.   1. ]\n",
            " [ 1.5  2.   1. ]\n",
            " [-0.5  2.   1. ]]\n"
          ],
          "name": "stdout"
        }
      ]
    },
    {
      "cell_type": "markdown",
      "metadata": {
        "id": "NfLla1Rd28bm"
      },
      "source": [
        "#Rotação#\n",
        "- Considerando que o eixo de rotação está sobre o ponto (0, 0).\n",
        "- Para eixo deslocado do ponto (0, 0), é necessário fazer o ajuste, conforme é feito no escalonamento."
      ]
    },
    {
      "cell_type": "code",
      "metadata": {
        "colab": {
          "base_uri": "https://localhost:8080/",
          "height": 350
        },
        "id": "ta1fkk73288k",
        "outputId": "fe62d682-178d-4f75-f8aa-1491bf0bee62"
      },
      "source": [
        "poligono_sem_rotacao = ([[0, 0, 1],\n",
        "                         [1, 0, 1],\n",
        "                         [1, 1, 1],\n",
        "                         [0, 1, 1]])\n",
        "\n",
        "alfa = 45 # angulo de rotação\n",
        "matriz_rotacao = np.array([[np.cos(np.deg2rad(alfa)), np.sin(np.deg2rad(alfa)), 0],\n",
        "                           [-np.sin(np.deg2rad(alfa)), np.cos(np.deg2rad(alfa)), 0],\n",
        "                           [0, 0, 1]])\n",
        "\n",
        "poligono_com_rotacao = np.matmul(poligono_sem_rotacao, matriz_rotacao)\n",
        "print(\"Polígono rotacionado a %.1f graus, sem ajuste do centro geométrico\" % alfa)\n",
        "print(poligono_com_rotacao)\n",
        "\n",
        "\n",
        "plot_poligono(poligono_sem_rotacao, novo = False)\n",
        "plot_poligono(poligono_com_rotacao, novo = False, cor = 'r')"
      ],
      "execution_count": 73,
      "outputs": [
        {
          "output_type": "stream",
          "text": [
            "Polígono rotacionado a 45.0 graus, sem ajuste do centro geométrico\n",
            "[[ 0.00000000e+00  0.00000000e+00  1.00000000e+00]\n",
            " [ 7.07106781e-01  7.07106781e-01  1.00000000e+00]\n",
            " [ 1.11022302e-16  1.41421356e+00  1.00000000e+00]\n",
            " [-7.07106781e-01  7.07106781e-01  1.00000000e+00]]\n"
          ],
          "name": "stdout"
        },
        {
          "output_type": "display_data",
          "data": {
            "image/png": "[encoded data removed]",
            "text/plain": [
              "<Figure size 432x288 with 1 Axes>"
            ]
          },
          "metadata": {
            "tags": [],
            "needs_background": "light"
          }
        }
      ]
    }
  ]
}