{
  "nbformat": 4,
  "nbformat_minor": 0,
  "metadata": {
    "colab": {
      "name": "Formulário Álgebra.ipynb",
      "provenance": [],
      "collapsed_sections": [],
      "authorship_tag": "ABX9TyOMU7LfzoQuGypqUuj/tFwY",
      "include_colab_link": true
    },
    "kernelspec": {
      "name": "python3",
      "display_name": "Python 3"
    },
    "language_info": {
      "name": "python"
    }
  },
  "cells": [
    {
      "cell_type": "markdown",
      "metadata": {
        "id": "view-in-github",
        "colab_type": "text"
      },
      "source": [
        "<a href=\"https://colab.research.google.com/github/otaviofernandes/Algebra_Linear/blob/main/Formul%C3%A1rio_%C3%81lgebra.ipynb\" target=\"_parent\"><img src=\"https://colab.research.google.com/assets/colab-badge.svg\" alt=\"Open In Colab\"/></a>"
      ]
    },
    {
      "cell_type": "code",
      "metadata": {
        "id": "h5ZKdwPdkNOH"
      },
      "source": [
        "import numpy as np"
      ],
      "execution_count": 1,
      "outputs": []
    },
    {
      "cell_type": "markdown",
      "metadata": {
        "id": "-P3aHTtK2h-l"
      },
      "source": [
        "#Cálculo da norma de um vetor#"
      ]
    },
    {
      "cell_type": "code",
      "metadata": {
        "colab": {
          "base_uri": "https://localhost:8080/"
        },
        "id": "sGjbtsZz2qjF",
        "outputId": "b8d40ee2-252e-48cf-9290-c3d2e5d2137e"
      },
      "source": [
        "u = np.array([-3, -6, -2, 10])\n",
        "norma = np.linalg.norm(u)\n",
        "norma"
      ],
      "execution_count": 2,
      "outputs": [
        {
          "output_type": "execute_result",
          "data": {
            "text/plain": [
              "12.206555615733702"
            ]
          },
          "metadata": {
            "tags": []
          },
          "execution_count": 2
        }
      ]
    },
    {
      "cell_type": "markdown",
      "metadata": {
        "id": "SgS6XvhGknj_"
      },
      "source": [
        "#Adição de vetores (soma)# "
      ]
    },
    {
      "cell_type": "code",
      "metadata": {
        "colab": {
          "base_uri": "https://localhost:8080/"
        },
        "id": "lSQU-PoSks_t",
        "outputId": "a82669d5-56a2-4a21-96cd-7994ef92e7f3"
      },
      "source": [
        "a = np.array([1, 2, 3])\n",
        "b = np.array([1, 1, 1])\n",
        "adicao = a + b\n",
        "adicao"
      ],
      "execution_count": 3,
      "outputs": [
        {
          "output_type": "execute_result",
          "data": {
            "text/plain": [
              "array([2, 3, 4])"
            ]
          },
          "metadata": {
            "tags": []
          },
          "execution_count": 3
        }
      ]
    },
    {
      "cell_type": "markdown",
      "metadata": {
        "id": "Rz2AB9n_oS3F"
      },
      "source": [
        "#Inversão de vetores#"
      ]
    },
    {
      "cell_type": "code",
      "metadata": {
        "colab": {
          "base_uri": "https://localhost:8080/"
        },
        "id": "F28NIBBboWv8",
        "outputId": "100c4f99-34b9-4393-e789-3328e7a48d1f"
      },
      "source": [
        "a = np.array([3, 6, -1, 5, -2])\n",
        "inversao = -a\n",
        "inversao"
      ],
      "execution_count": 4,
      "outputs": [
        {
          "output_type": "execute_result",
          "data": {
            "text/plain": [
              "array([-3, -6,  1, -5,  2])"
            ]
          },
          "metadata": {
            "tags": []
          },
          "execution_count": 4
        }
      ]
    },
    {
      "cell_type": "markdown",
      "metadata": {
        "id": "aeRGRjCAqiyC"
      },
      "source": [
        "#Subtração de vetores#\n",
        "Mesmo que a soma de um vetor com a inversão de outro vetor"
      ]
    },
    {
      "cell_type": "code",
      "metadata": {
        "colab": {
          "base_uri": "https://localhost:8080/"
        },
        "id": "GUnmZQqBqxaL",
        "outputId": "797b4dc9-68ea-40c6-9cef-ff1443dec848"
      },
      "source": [
        "a = np.array([3, 2, -4, 1])\n",
        "b = np.array([1, 5, -1, 0])\n",
        "subtracao = a + (-b)\n",
        "subtracao"
      ],
      "execution_count": 5,
      "outputs": [
        {
          "output_type": "execute_result",
          "data": {
            "text/plain": [
              "array([ 2, -3, -3,  1])"
            ]
          },
          "metadata": {
            "tags": []
          },
          "execution_count": 5
        }
      ]
    },
    {
      "cell_type": "markdown",
      "metadata": {
        "id": "bgph68IqrZua"
      },
      "source": [
        "#Multiplicação de um vetor por um escalar#"
      ]
    },
    {
      "cell_type": "code",
      "metadata": {
        "colab": {
          "base_uri": "https://localhost:8080/"
        },
        "id": "9GF87YfHsndK",
        "outputId": "98fba394-4600-48a5-cd9e-a482140b9bdb"
      },
      "source": [
        "vetor = np.array([3, 2, -4, 1])\n",
        "escalar = 3\n",
        "resultante = vetor * escalar\n",
        "resultante"
      ],
      "execution_count": 6,
      "outputs": [
        {
          "output_type": "execute_result",
          "data": {
            "text/plain": [
              "array([  9,   6, -12,   3])"
            ]
          },
          "metadata": {
            "tags": []
          },
          "execution_count": 6
        }
      ]
    },
    {
      "cell_type": "markdown",
      "metadata": {
        "id": "g29emCZruCWQ"
      },
      "source": [
        "#Produto Interno#\n",
        "Multiplicação entre dois vetores\n",
        " - operador para produto interno: vetor1 @ vetor2\n",
        " - método np.dot(vetor1, vetor2)"
      ]
    },
    {
      "cell_type": "code",
      "metadata": {
        "colab": {
          "base_uri": "https://localhost:8080/"
        },
        "id": "HHeRXC7ouLU4",
        "outputId": "f340685e-d7c9-461d-e20e-735d906f831d"
      },
      "source": [
        "a = np.array([-2, 1, 5, -4, 1])\n",
        "b = np.array([3, 4, 2, -3, 0])\n",
        "prod_interno = a @ b # operador para produto interno @\n",
        "print(prod_interno)\n",
        "\n",
        "c = np.array([1, -2, 1])\n",
        "d = np.array([3, 2, 2])\n",
        "prod_interno1 = np.dot(a, b)\n",
        "print(prod_interno1)"
      ],
      "execution_count": 40,
      "outputs": [
        {
          "output_type": "stream",
          "text": [
            "20\n",
            "20\n"
          ],
          "name": "stdout"
        }
      ]
    },
    {
      "cell_type": "markdown",
      "metadata": {
        "id": "RNVEopdK3EXb"
      },
      "source": [
        "#Cálculo do angulo entre dois vetores#\n"
      ]
    },
    {
      "cell_type": "code",
      "metadata": {
        "colab": {
          "base_uri": "https://localhost:8080/"
        },
        "id": "1L9mvCny3Ts8",
        "outputId": "01c76f80-931b-4af9-dcbf-1e562afe401e"
      },
      "source": [
        "u = np.array([12, 8, -4, 20, -16])\n",
        "v = np.array([-3, -2, -1, -5, -4])\n",
        "\n",
        "angulo = np.arccos((u@v)/(np.linalg.norm(u)*np.linalg.norm(v)))\n",
        "print('ângulo em radianos: ', angulo)\n",
        "print('ângulo em graus: ', (np.rad2deg(angulo)))"
      ],
      "execution_count": 39,
      "outputs": [
        {
          "output_type": "stream",
          "text": [
            "ângulo em radianos:  1.9625590494981406\n",
            "ângulo em graus:  112.44635058144988\n"
          ],
          "name": "stdout"
        }
      ]
    },
    {
      "cell_type": "markdown",
      "metadata": {
        "id": "jHkv-VuHqSd7"
      },
      "source": [
        "#Cálculo do determinante para matrizes 2 x 2 e 3 x 3#\n",
        "- Obs. se determinante = 0, vetores que compõe a matriz possuem dependência linear"
      ]
    },
    {
      "cell_type": "code",
      "metadata": {
        "colab": {
          "base_uri": "https://localhost:8080/"
        },
        "id": "JaeqsJhLpE0i",
        "outputId": "093fe541-76f1-4f8b-d820-53807ad60b51"
      },
      "source": [
        "#matriz 2 x 2\n",
        "m2_2 = np.array([[0, 2],\n",
        "                 [0, 9]])\n",
        "\n",
        "#matriz 3 x 3\n",
        "m3_3 = np.array([[3, 1, 6],\n",
        "              [2, -1, 3],\n",
        "              [1, 0, -2]])\n",
        "determinante2_2 = np.linalg.det(m2_2)\n",
        "determinante3_3 = np.linalg.det(m3_3)\n",
        "print('Determinante da matriz 2 x 2: ', determinante2_2)\n",
        "print('Determinante da matriz 3 x 3: ', determinante3_3)"
      ],
      "execution_count": 18,
      "outputs": [
        {
          "output_type": "stream",
          "text": [
            "Determinante da matriz 2 x 2:  0.0\n",
            "Determinante da matriz 3 x 3:  18.999999999999996\n"
          ],
          "name": "stdout"
        }
      ]
    },
    {
      "cell_type": "markdown",
      "metadata": {
        "id": "F0kVzQKNlnXT"
      },
      "source": [
        "#Soma de matrizes#\n",
        "- Análogo à soma de vetores, considerando que a matriz é um vetor formado por vetores."
      ]
    },
    {
      "cell_type": "code",
      "metadata": {
        "colab": {
          "base_uri": "https://localhost:8080/"
        },
        "id": "NAmjCkDzl2Xc",
        "outputId": "9cef3463-501b-4169-85e5-ef0a811704ee"
      },
      "source": [
        "m1 = np.array([[2, 1],\n",
        "               [1, 3]])\n",
        "m2 = np.array([[3, 4],\n",
        "              [5, 7]])\n",
        "soma_mat = m1 + m2\n",
        "\n",
        "soma_mat"
      ],
      "execution_count": 12,
      "outputs": [
        {
          "output_type": "execute_result",
          "data": {
            "text/plain": [
              "array([[ 5,  5],\n",
              "       [ 6, 10]])"
            ]
          },
          "metadata": {
            "tags": []
          },
          "execution_count": 12
        }
      ]
    },
    {
      "cell_type": "markdown",
      "metadata": {
        "id": "nNYZE6JtnfCT"
      },
      "source": [
        "#Subtração de matrizes#\n",
        "- Análogo à subtração de vetores, considerando que a matriz é um vetor formado por vetores."
      ]
    },
    {
      "cell_type": "code",
      "metadata": {
        "colab": {
          "base_uri": "https://localhost:8080/"
        },
        "id": "JU6uiN7XnnVx",
        "outputId": "be3cfe8c-bb82-4fe9-973b-25706e3f47b1"
      },
      "source": [
        "m3 = np.array([[3, 1, 6],\n",
        "               [2, -1, 3],\n",
        "               [1, 0, -2]])\n",
        "m4 = np.array([[5, -4, 1],\n",
        "               [-2, -5, 0],\n",
        "               [-1, 8, 7]])\n",
        "subtracao_mat = m3 + (-m4)\n",
        "subtracao_mat"
      ],
      "execution_count": 14,
      "outputs": [
        {
          "output_type": "execute_result",
          "data": {
            "text/plain": [
              "array([[-2,  5,  5],\n",
              "       [ 4,  4,  3],\n",
              "       [ 2, -8, -9]])"
            ]
          },
          "metadata": {
            "tags": []
          },
          "execution_count": 14
        }
      ]
    },
    {
      "cell_type": "markdown",
      "metadata": {
        "id": "vagU9jA6q2iB"
      },
      "source": [
        "#Multiplicação de matrizes#\n",
        "- Análogo ao produto interno de vetores, considerando que a matriz é um vetor formado por vetores."
      ]
    },
    {
      "cell_type": "code",
      "metadata": {
        "colab": {
          "base_uri": "https://localhost:8080/"
        },
        "id": "OeZvLlogrBvw",
        "outputId": "7e17c5cb-0538-4e94-edd3-8c873e1e626f"
      },
      "source": [
        "m5 = np.array([[3, 1, 6],\n",
        "               [2, -1, 3],\n",
        "               [1, 0, -2]])\n",
        "m6 = np.array([[5, -4, 1],\n",
        "               [-2, -5, 0],\n",
        "               [-1, 8, 7]])\n",
        "multiplicacao_mat = np.matmul(m5, m6)\n",
        "multiplicacao_mat"
      ],
      "execution_count": 19,
      "outputs": [
        {
          "output_type": "execute_result",
          "data": {
            "text/plain": [
              "array([[  7,  31,  45],\n",
              "       [  9,  21,  23],\n",
              "       [  7, -20, -13]])"
            ]
          },
          "metadata": {
            "tags": []
          },
          "execution_count": 19
        }
      ]
    },
    {
      "cell_type": "markdown",
      "metadata": {
        "id": "PrdxLfUSr0oY"
      },
      "source": [
        "#Transposição de matrizes (matriz transposta)#\n",
        "$m^T$"
      ]
    },
    {
      "cell_type": "code",
      "metadata": {
        "colab": {
          "base_uri": "https://localhost:8080/"
        },
        "id": "b1LsGyymr8C5",
        "outputId": "95fbcd6d-f914-4655-a169-505c74f29f34"
      },
      "source": [
        "m7 = np.array([[3, 1, 6],\n",
        "               [2, -1, 3],\n",
        "               [1, 0, -2]])\n",
        "matriz_transposta = m7.T\n",
        "matriz_transposta"
      ],
      "execution_count": 20,
      "outputs": [
        {
          "output_type": "execute_result",
          "data": {
            "text/plain": [
              "array([[ 3,  2,  1],\n",
              "       [ 1, -1,  0],\n",
              "       [ 6,  3, -2]])"
            ]
          },
          "metadata": {
            "tags": []
          },
          "execution_count": 20
        }
      ]
    },
    {
      "cell_type": "markdown",
      "metadata": {
        "id": "awA6A7lAzKTU"
      },
      "source": [
        "#Inversão de matrizes (matriz inversa)#\n",
        "- $m^-1$\n",
        "\n",
        "- $m * m^-1 = I$ (matriz multiplicada pela sua inversa = matriz identidade I)\n",
        "- Se o determinante da matriz = 0, ela não possuirá inversa."
      ]
    },
    {
      "cell_type": "code",
      "metadata": {
        "colab": {
          "base_uri": "https://localhost:8080/"
        },
        "id": "OGU1_4gK0emd",
        "outputId": "08079f5f-3479-4715-c777-a01001866160"
      },
      "source": [
        "m8 = np.array([[3, 1],\n",
        "               [-1, 2]])\n",
        "inversa = np.linalg.inv(m8)\n",
        "print('Matriz inversa: ', inversa)"
      ],
      "execution_count": 21,
      "outputs": [
        {
          "output_type": "stream",
          "text": [
            "Matriz inversa:  [[ 0.28571429 -0.14285714]\n",
            " [ 0.14285714  0.42857143]]\n"
          ],
          "name": "stdout"
        }
      ]
    }
  ]
}